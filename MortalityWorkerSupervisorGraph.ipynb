{
  "nbformat": 4,
  "nbformat_minor": 0,
  "metadata": {
    "colab": {
      "provenance": [],
      "authorship_tag": "ABX9TyMTrv1JaCLHEkwIh3+txpWi",
      "include_colab_link": true
    },
    "kernelspec": {
      "name": "python3",
      "display_name": "Python 3"
    },
    "language_info": {
      "name": "python"
    }
  },
  "cells": [
    {
      "cell_type": "markdown",
      "metadata": {
        "id": "view-in-github",
        "colab_type": "text"
      },
      "source": [
        "<a href=\"https://colab.research.google.com/github/reachosen/MortalityGraph/blob/main/MortalityWorkerSupervisorGraph.ipynb\" target=\"_parent\"><img src=\"https://colab.research.google.com/assets/colab-badge.svg\" alt=\"Open In Colab\"/></a>"
      ]
    },
    {
      "cell_type": "markdown",
      "source": [
        "Explanation of the Code\n",
        "1. Setup\n",
        "Dependencies: Installs langgraph and langsmith via pip. Run this in a Colab cell first.\n",
        "LangSmith: Optional setup for observability. Uncomment and add your API key from LangSmith if you want tracing (get it from their site). If skipped, the code still runs but without detailed logs.\n",
        "2. Simulated APIs\n",
        "fetch_mortality_data: Hardcoded to return 5.2% for Facility A, 3.8% for B.\n",
        "fetch_context_data: Hardcoded staffing (A: 1:6, B: 1:4) and acuity (A: 4.5, B: 4.0).\n",
        "Added time.sleep(0.2) to mimic API latency.\n",
        "3. Worker Agents\n",
        "Mortality Fetcher: Calls the fake API for mortality rates.\n",
        "Context Fetcher: Gets staffing and acuity data.\n",
        "Analyzer: Compares data and generates a text explanation.\n",
        "Visualizer: Simulates a chart as text (in practice, you’d use matplotlib).\n",
        "4. Supervisor Agent\n",
        "supervisor: A simple routing function checking the state to decide the next node. It mimics the supervisor’s role in orchestrating the workflow.\n",
        "5. LangGraph Workflow\n",
        "Nodes: Each worker agent is a node.\n",
        "Edges: Conditional edges use the supervisor to route between nodes in sequence: fetch mortality → fetch context → analyze → visualize → end.\n",
        "State: A dictionary tracks data across nodes (e.g., mortality_A, analysis).\n",
        "6. Execution\n",
        "app.invoke(initial_state) runs the graph, simulating the full process.\n",
        "Output shows the analysis and a text-based “chart.”\n",
        "Observability in Action\n",
        "If LangSmith is enabled:\n",
        "Each node’s execution (e.g., API calls, analysis) is logged with inputs, outputs, and timing.\n",
        "Check https://smith.langchain.com/ after running to see traces (e.g., “mortality_fetcher took 200ms”).\n",
        "Without LangSmith, you’ll still see print statements (Fetching mortality data...) for basic visibility.\n",
        "Sample Output"
      ],
      "metadata": {
        "id": "QfsfvHyLCpxM"
      }
    },
    {
      "cell_type": "code",
      "execution_count": 1,
      "metadata": {
        "colab": {
          "base_uri": "https://localhost:8080/"
        },
        "id": "Pc02HpFVCohm",
        "outputId": "36552bde-df91-4fb1-8210-f3d6332ce8e0"
      },
      "outputs": [
        {
          "output_type": "stream",
          "name": "stdout",
          "text": [
            "Collecting langgraph\n",
            "  Downloading langgraph-0.2.74-py3-none-any.whl.metadata (17 kB)\n",
            "Requirement already satisfied: langsmith in /usr/local/lib/python3.11/dist-packages (0.3.8)\n",
            "Requirement already satisfied: langchain-core!=0.3.0,!=0.3.1,!=0.3.10,!=0.3.11,!=0.3.12,!=0.3.13,!=0.3.14,!=0.3.15,!=0.3.16,!=0.3.17,!=0.3.18,!=0.3.19,!=0.3.2,!=0.3.20,!=0.3.21,!=0.3.22,!=0.3.3,!=0.3.4,!=0.3.5,!=0.3.6,!=0.3.7,!=0.3.8,!=0.3.9,<0.4.0,>=0.2.43 in /usr/local/lib/python3.11/dist-packages (from langgraph) (0.3.37)\n",
            "Collecting langgraph-checkpoint<3.0.0,>=2.0.10 (from langgraph)\n",
            "  Downloading langgraph_checkpoint-2.0.16-py3-none-any.whl.metadata (4.6 kB)\n",
            "Collecting langgraph-sdk<0.2.0,>=0.1.42 (from langgraph)\n",
            "  Downloading langgraph_sdk-0.1.53-py3-none-any.whl.metadata (1.8 kB)\n",
            "Requirement already satisfied: httpx<1,>=0.23.0 in /usr/local/lib/python3.11/dist-packages (from langsmith) (0.28.1)\n",
            "Requirement already satisfied: orjson<4.0.0,>=3.9.14 in /usr/local/lib/python3.11/dist-packages (from langsmith) (3.10.15)\n",
            "Requirement already satisfied: pydantic<3,>=1 in /usr/local/lib/python3.11/dist-packages (from langsmith) (2.10.6)\n",
            "Requirement already satisfied: requests<3,>=2 in /usr/local/lib/python3.11/dist-packages (from langsmith) (2.32.3)\n",
            "Requirement already satisfied: requests-toolbelt<2.0.0,>=1.0.0 in /usr/local/lib/python3.11/dist-packages (from langsmith) (1.0.0)\n",
            "Requirement already satisfied: zstandard<0.24.0,>=0.23.0 in /usr/local/lib/python3.11/dist-packages (from langsmith) (0.23.0)\n",
            "Requirement already satisfied: anyio in /usr/local/lib/python3.11/dist-packages (from httpx<1,>=0.23.0->langsmith) (3.7.1)\n",
            "Requirement already satisfied: certifi in /usr/local/lib/python3.11/dist-packages (from httpx<1,>=0.23.0->langsmith) (2025.1.31)\n",
            "Requirement already satisfied: httpcore==1.* in /usr/local/lib/python3.11/dist-packages (from httpx<1,>=0.23.0->langsmith) (1.0.7)\n",
            "Requirement already satisfied: idna in /usr/local/lib/python3.11/dist-packages (from httpx<1,>=0.23.0->langsmith) (3.10)\n",
            "Requirement already satisfied: h11<0.15,>=0.13 in /usr/local/lib/python3.11/dist-packages (from httpcore==1.*->httpx<1,>=0.23.0->langsmith) (0.14.0)\n",
            "Requirement already satisfied: tenacity!=8.4.0,<10.0.0,>=8.1.0 in /usr/local/lib/python3.11/dist-packages (from langchain-core!=0.3.0,!=0.3.1,!=0.3.10,!=0.3.11,!=0.3.12,!=0.3.13,!=0.3.14,!=0.3.15,!=0.3.16,!=0.3.17,!=0.3.18,!=0.3.19,!=0.3.2,!=0.3.20,!=0.3.21,!=0.3.22,!=0.3.3,!=0.3.4,!=0.3.5,!=0.3.6,!=0.3.7,!=0.3.8,!=0.3.9,<0.4.0,>=0.2.43->langgraph) (9.0.0)\n",
            "Requirement already satisfied: jsonpatch<2.0,>=1.33 in /usr/local/lib/python3.11/dist-packages (from langchain-core!=0.3.0,!=0.3.1,!=0.3.10,!=0.3.11,!=0.3.12,!=0.3.13,!=0.3.14,!=0.3.15,!=0.3.16,!=0.3.17,!=0.3.18,!=0.3.19,!=0.3.2,!=0.3.20,!=0.3.21,!=0.3.22,!=0.3.3,!=0.3.4,!=0.3.5,!=0.3.6,!=0.3.7,!=0.3.8,!=0.3.9,<0.4.0,>=0.2.43->langgraph) (1.33)\n",
            "Requirement already satisfied: PyYAML>=5.3 in /usr/local/lib/python3.11/dist-packages (from langchain-core!=0.3.0,!=0.3.1,!=0.3.10,!=0.3.11,!=0.3.12,!=0.3.13,!=0.3.14,!=0.3.15,!=0.3.16,!=0.3.17,!=0.3.18,!=0.3.19,!=0.3.2,!=0.3.20,!=0.3.21,!=0.3.22,!=0.3.3,!=0.3.4,!=0.3.5,!=0.3.6,!=0.3.7,!=0.3.8,!=0.3.9,<0.4.0,>=0.2.43->langgraph) (6.0.2)\n",
            "Requirement already satisfied: packaging<25,>=23.2 in /usr/local/lib/python3.11/dist-packages (from langchain-core!=0.3.0,!=0.3.1,!=0.3.10,!=0.3.11,!=0.3.12,!=0.3.13,!=0.3.14,!=0.3.15,!=0.3.16,!=0.3.17,!=0.3.18,!=0.3.19,!=0.3.2,!=0.3.20,!=0.3.21,!=0.3.22,!=0.3.3,!=0.3.4,!=0.3.5,!=0.3.6,!=0.3.7,!=0.3.8,!=0.3.9,<0.4.0,>=0.2.43->langgraph) (24.2)\n",
            "Requirement already satisfied: typing-extensions>=4.7 in /usr/local/lib/python3.11/dist-packages (from langchain-core!=0.3.0,!=0.3.1,!=0.3.10,!=0.3.11,!=0.3.12,!=0.3.13,!=0.3.14,!=0.3.15,!=0.3.16,!=0.3.17,!=0.3.18,!=0.3.19,!=0.3.2,!=0.3.20,!=0.3.21,!=0.3.22,!=0.3.3,!=0.3.4,!=0.3.5,!=0.3.6,!=0.3.7,!=0.3.8,!=0.3.9,<0.4.0,>=0.2.43->langgraph) (4.12.2)\n",
            "Requirement already satisfied: msgpack<2.0.0,>=1.1.0 in /usr/local/lib/python3.11/dist-packages (from langgraph-checkpoint<3.0.0,>=2.0.10->langgraph) (1.1.0)\n",
            "Requirement already satisfied: annotated-types>=0.6.0 in /usr/local/lib/python3.11/dist-packages (from pydantic<3,>=1->langsmith) (0.7.0)\n",
            "Requirement already satisfied: pydantic-core==2.27.2 in /usr/local/lib/python3.11/dist-packages (from pydantic<3,>=1->langsmith) (2.27.2)\n",
            "Requirement already satisfied: charset-normalizer<4,>=2 in /usr/local/lib/python3.11/dist-packages (from requests<3,>=2->langsmith) (3.4.1)\n",
            "Requirement already satisfied: urllib3<3,>=1.21.1 in /usr/local/lib/python3.11/dist-packages (from requests<3,>=2->langsmith) (2.3.0)\n",
            "Requirement already satisfied: jsonpointer>=1.9 in /usr/local/lib/python3.11/dist-packages (from jsonpatch<2.0,>=1.33->langchain-core!=0.3.0,!=0.3.1,!=0.3.10,!=0.3.11,!=0.3.12,!=0.3.13,!=0.3.14,!=0.3.15,!=0.3.16,!=0.3.17,!=0.3.18,!=0.3.19,!=0.3.2,!=0.3.20,!=0.3.21,!=0.3.22,!=0.3.3,!=0.3.4,!=0.3.5,!=0.3.6,!=0.3.7,!=0.3.8,!=0.3.9,<0.4.0,>=0.2.43->langgraph) (3.0.0)\n",
            "Requirement already satisfied: sniffio>=1.1 in /usr/local/lib/python3.11/dist-packages (from anyio->httpx<1,>=0.23.0->langsmith) (1.3.1)\n",
            "Downloading langgraph-0.2.74-py3-none-any.whl (151 kB)\n",
            "\u001b[2K   \u001b[90m━━━━━━━━━━━━━━━━━━━━━━━━━━━━━━━━━━━━━━━━\u001b[0m \u001b[32m151.4/151.4 kB\u001b[0m \u001b[31m3.4 MB/s\u001b[0m eta \u001b[36m0:00:00\u001b[0m\n",
            "\u001b[?25hDownloading langgraph_checkpoint-2.0.16-py3-none-any.whl (38 kB)\n",
            "Downloading langgraph_sdk-0.1.53-py3-none-any.whl (45 kB)\n",
            "\u001b[2K   \u001b[90m━━━━━━━━━━━━━━━━━━━━━━━━━━━━━━━━━━━━━━━━\u001b[0m \u001b[32m45.4/45.4 kB\u001b[0m \u001b[31m2.5 MB/s\u001b[0m eta \u001b[36m0:00:00\u001b[0m\n",
            "\u001b[?25hInstalling collected packages: langgraph-sdk, langgraph-checkpoint, langgraph\n",
            "Successfully installed langgraph-0.2.74 langgraph-checkpoint-2.0.16 langgraph-sdk-0.1.53\n"
          ]
        }
      ],
      "source": [
        "!pip install langgraph langsmith"
      ]
    },
    {
      "cell_type": "code",
      "source": [
        "# Import libraries\n",
        "from langgraph.graph import StateGraph, END\n",
        "from typing import Dict, Any, List\n",
        "import time\n",
        "from langsmith import Client\n",
        "import os"
      ],
      "metadata": {
        "id": "sZmZWGfOC0kU"
      },
      "execution_count": 2,
      "outputs": []
    },
    {
      "cell_type": "code",
      "source": [
        "# Optional: Set up LangSmith for observability (skip if no API key)\n",
        "# Get your API key from https://smith.langchain.com/settings and uncomment below\n",
        "# os.environ[\"LANGSMITH_API_KEY\"] = \"your-langsmith-api-key\"\n",
        "# os.environ[\"LANGCHAIN_TRACING_V2\"] = \"true\"\n",
        "# os.environ[\"LANGCHAIN_PROJECT\"] = \"Mortality_LangGraph_Case\"\n",
        "# client = Client()"
      ],
      "metadata": {
        "id": "FBt1WmISC2a_"
      },
      "execution_count": null,
      "outputs": []
    },
    {
      "cell_type": "code",
      "source": [
        "# Simulated API functions with hardcoded returns\n",
        "def fetch_mortality_data(facility: str) -> Dict[str, float]:\n",
        "    \"\"\"Simulate Vertica API call for mortality rates.\"\"\"\n",
        "    time.sleep(0.2)  # Simulate network delay\n",
        "    if facility == \"A\":\n",
        "        return {\"facility\": \"A\", \"mortality_rate\": 5.2}\n",
        "    elif facility == \"B\":\n",
        "        return {\"facility\": \"B\", \"mortality_rate\": 3.8}\n",
        "    return {\"error\": \"Unknown facility\"}\n",
        "\n",
        "def fetch_context_data(facility: str) -> Dict[str, Any]:\n",
        "    \"\"\"Simulate DB API call for staffing and acuity.\"\"\"\n",
        "    time.sleep(0.2)  # Simulate network delay\n",
        "    if facility == \"A\":\n",
        "        return {\"facility\": \"A\", \"nurse_to_patient_ratio\": \"1:6\", \"acuity_score\": 4.5}\n",
        "    elif facility == \"B\":\n",
        "        return {\"facility\": \"B\", \"nurse_to_patient_ratio\": \"1:4\", \"acuity_score\": 4.0}\n",
        "    return {\"error\": \"Unknown facility\"}"
      ],
      "metadata": {
        "id": "m7Mbc-KWDE8Q"
      },
      "execution_count": 3,
      "outputs": []
    },
    {
      "cell_type": "code",
      "source": [
        "# Worker Agent Functions\n",
        "def mortality_fetcher(state: Dict[str, Any]) -> Dict[str, Any]:\n",
        "    \"\"\"Worker Agent 1: Fetch mortality data for both facilities.\"\"\"\n",
        "    print(\"Fetching mortality data...\")\n",
        "    state[\"mortality_A\"] = fetch_mortality_data(\"A\")\n",
        "    state[\"mortality_B\"] = fetch_mortality_data(\"B\")\n",
        "    return state\n",
        "\n",
        "def context_fetcher(state: Dict[str, Any]) -> Dict[str, Any]:\n",
        "    \"\"\"Worker Agent 2: Fetch contextual data.\"\"\"\n",
        "    print(\"Fetching context data...\")\n",
        "    state[\"context_A\"] = fetch_context_data(\"A\")\n",
        "    state[\"context_B\"] = fetch_context_data(\"B\")\n",
        "    return state\n",
        "\n",
        "def analyzer(state: Dict[str, Any]) -> Dict[str, Any]:\n",
        "    \"\"\"Worker Agent 3: Analyze data and find differences.\"\"\"\n",
        "    print(\"Analyzing data...\")\n",
        "    mort_A = state[\"mortality_A\"][\"mortality_rate\"]\n",
        "    mort_B = state[\"mortality_B\"][\"mortality_rate\"]\n",
        "    ratio_A = state[\"context_A\"][\"nurse_to_patient_ratio\"]\n",
        "    ratio_B = state[\"context_B\"][\"nurse_to_patient_ratio\"]\n",
        "    acuity_A = state[\"context_A\"][\"acuity_score\"]\n",
        "    acuity_B = state[\"context_B\"][\"acuity_score\"]\n",
        "\n",
        "    diff = mort_A - mort_B\n",
        "    analysis = (\n",
        "        f\"Mortality rate is {diff:.1f}% higher at Facility A. \"\n",
        "        f\"Facility A has {ratio_A} nurse-to-patient ratio vs {ratio_B} at B, \"\n",
        "        f\"and acuity of {acuity_A} vs {acuity_B}.\"\n",
        "    )\n",
        "    state[\"analysis\"] = analysis\n",
        "    return state\n",
        "\n",
        "def visualizer(state: Dict[str, Any]) -> Dict[str, Any]:\n",
        "    \"\"\"Worker Agent 4: Simulate visualization generation.\"\"\"\n",
        "    print(\"Generating visualization...\")\n",
        "    # Simulate chart creation (in reality, use matplotlib or similar)\n",
        "    chart = (\n",
        "        \"Bar chart: Mortality Rates\\n\"\n",
        "        f\"Facility A: {state['mortality_A']['mortality_rate']}%\\n\"\n",
        "        f\"Facility B: {state['mortality_B']['mortality_rate']}%\\n\"\n",
        "        \"Overlays: Staffing, Acuity\"\n",
        "    )\n",
        "    state[\"visualization\"] = chart\n",
        "    return state"
      ],
      "metadata": {
        "id": "VvvNYoveDj79"
      },
      "execution_count": 4,
      "outputs": []
    },
    {
      "cell_type": "code",
      "source": [
        "# Supervisor Agent Logic (Simplified Routing)\n",
        "def supervisor(state: Dict[str, Any]) -> str:\n",
        "    \"\"\"Decide next step based on state.\"\"\"\n",
        "    if \"mortality_A\" not in state:\n",
        "        return \"mortality_fetcher\"\n",
        "    if \"context_A\" not in state:\n",
        "        return \"context_fetcher\"\n",
        "    if \"analysis\" not in state:\n",
        "        return \"analyzer\"\n",
        "    if \"visualization\" not in state:\n",
        "        return \"visualizer\"\n",
        "    return END"
      ],
      "metadata": {
        "id": "CJSCBGHUEB6j"
      },
      "execution_count": 5,
      "outputs": []
    },
    {
      "cell_type": "code",
      "source": [
        "# Define the LangGraph Workflow\n",
        "workflow = StateGraph(Dict[str, Any])\n",
        "\n",
        "# Add nodes (worker agents)\n",
        "workflow.add_node(\"mortality_fetcher\", mortality_fetcher)\n",
        "workflow.add_node(\"context_fetcher\", context_fetcher)\n",
        "workflow.add_node(\"analyzer\", analyzer)\n",
        "workflow.add_node(\"visualizer\", visualizer)\n",
        "\n",
        "# Add edges (supervised routing)\n",
        "workflow.set_entry_point(\"mortality_fetcher\")\n",
        "workflow.add_conditional_edges(\n",
        "    \"mortality_fetcher\", supervisor, {\"context_fetcher\": \"context_fetcher\"}\n",
        ")\n",
        "workflow.add_conditional_edges(\n",
        "    \"context_fetcher\", supervisor, {\"analyzer\": \"analyzer\"}\n",
        ")\n",
        "workflow.add_conditional_edges(\n",
        "    \"analyzer\", supervisor, {\"visualizer\": \"visualizer\"}\n",
        ")\n",
        "workflow.add_conditional_edges(\n",
        "    \"visualizer\", supervisor, {END: END}\n",
        ")"
      ],
      "metadata": {
        "colab": {
          "base_uri": "https://localhost:8080/"
        },
        "id": "A9SCZSmlESbs",
        "outputId": "8725b5fc-e00e-44c9-da68-013a1b888cc6"
      },
      "execution_count": 6,
      "outputs": [
        {
          "output_type": "execute_result",
          "data": {
            "text/plain": [
              "<langgraph.graph.state.StateGraph at 0x7a26968e0950>"
            ]
          },
          "metadata": {},
          "execution_count": 6
        }
      ]
    },
    {
      "cell_type": "code",
      "source": [
        "# Compile the graph\n",
        "app = workflow.compile()\n",
        "\n",
        "# Run the workflow\n",
        "initial_state = {}\n",
        "result = app.invoke(initial_state)\n",
        "\n",
        "# Display results\n",
        "print(\"\\nFinal Result:\")\n",
        "print(\"Analysis:\", result[\"analysis\"])\n",
        "print(\"Visualization:\\n\", result[\"visualization\"])"
      ],
      "metadata": {
        "colab": {
          "base_uri": "https://localhost:8080/"
        },
        "id": "PmOZiTKqEXNW",
        "outputId": "0b8c25ff-79d6-4d1d-87da-5f3685bc8abf"
      },
      "execution_count": 7,
      "outputs": [
        {
          "output_type": "stream",
          "name": "stdout",
          "text": [
            "Fetching mortality data...\n",
            "Fetching context data...\n",
            "Analyzing data...\n",
            "Generating visualization...\n",
            "\n",
            "Final Result:\n",
            "Analysis: Mortality rate is 1.4% higher at Facility A. Facility A has 1:6 nurse-to-patient ratio vs 1:4 at B, and acuity of 4.5 vs 4.0.\n",
            "Visualization:\n",
            " Bar chart: Mortality Rates\n",
            "Facility A: 5.2%\n",
            "Facility B: 3.8%\n",
            "Overlays: Staffing, Acuity\n"
          ]
        }
      ]
    }
  ]
}